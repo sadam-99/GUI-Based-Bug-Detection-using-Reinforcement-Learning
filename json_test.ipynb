{
 "cells": [
  {
   "cell_type": "code",
   "execution_count": 138,
   "metadata": {
    "ExecuteTime": {
     "end_time": "2020-02-28T08:29:38.418834Z",
     "start_time": "2020-02-28T08:29:38.406832Z"
    }
   },
   "outputs": [],
   "source": [
    "import os\n",
    "import sys\n",
    "import glob\n",
    "import json\n",
    "apps_path = r\"Apps\"\n",
    "\n",
    "# function for loading the json files#\n",
    "def load_json(json_path):\n",
    "    with open(json_path, 'r') as f:\n",
    "        json_doc = json.load(f)\n",
    "        return json_doc\n",
    "# load_json(json_path)"
   ]
  },
  {
   "cell_type": "code",
   "execution_count": 184,
   "metadata": {
    "ExecuteTime": {
     "end_time": "2020-02-28T09:05:47.138472Z",
     "start_time": "2020-02-28T09:05:46.967753Z"
    }
   },
   "outputs": [
    {
     "name": "stdout",
     "output_type": "stream",
     "text": [
      "The Bounding boxes for the file are: 124.json \n",
      " [216, 140, 1224, 2336] [216, 140, 216, 140] [216, 140, 1224, 2336]\n",
      "The Bounding boxes for the file are: 35.json \n",
      " [216, 371, 1224, 2104] [216, 371, 216, 371] [216, 371, 1224, 2104]\n",
      "The Bounding boxes for the file are: 43.json \n",
      " [0, 0, 1440, 2392] [0, 0, 0, 0] [0, 0, 1440, 2392]\n",
      "The Bounding boxes for the file are: 88.json \n",
      " [0, 84, 1440, 2392] [0, 84, 0, 84] [0, 84, 1440, 2392]\n",
      "The Bounding boxes for the file are: 93.json \n",
      " [0, 0, 1440, 2392] [0, 0, 0, 0] [0, 0, 1440, 2392]\n",
      "The Bounding boxes for the file are: 1445.json \n",
      " [0, 0, 1440, 2392] [0, 0, 0, 0] [0, 0, 1440, 2392]\n",
      "The Bounding boxes for the file are: 89.json \n",
      " [0, 0, 1440, 2392] [0, 0, 0, 0] [0, 84, 1440, 2392]\n",
      "The Bounding boxes for the file are: 370.json \n",
      " [0, 0, 1440, 2392] [0, 0, 0, 0] [0, 0, 1440, 2392]\n",
      "The Bounding boxes for the file are: 488.json \n",
      " [0, 0, 1440, 2392] [0, 0, 0, 0] [0, 0, 1440, 2392]\n",
      "The Bounding boxes for the file are: 526.json \n",
      " [0, 0, 1440, 2392] [0, 0, 0, 0] [0, 0, 1440, 2392]\n",
      "The Bounding boxes for the file are: 614.json \n",
      " [0, 0, 1440, 2392] [0, 0, 0, 0] [0, 0, 1440, 2392]\n",
      "The Bounding boxes for the file are: 642.json \n",
      " [0, 0, 1440, 2392] [0, 0, 0, 0] [0, 84, 1440, 2392]\n",
      "The Bounding boxes for the file are: 683.json \n",
      " [0, 0, 1440, 2392] [0, 0, 0, 0] [0, 84, 1440, 2392]\n",
      "The Bounding boxes for the file are: 688.json \n",
      " [0, 0, 1440, 2392] [0, 0, 0, 0] [0, 0, 1440, 2392]\n",
      "The Bounding boxes for the file are: 700.json \n",
      " [0, 0, 1440, 2392] [0, 0, 0, 0] [0, 0, 1440, 2392]\n",
      "The Bounding boxes for the file are: 709.json \n",
      " [0, 0, 1440, 2392] [0, 0, 0, 0] [0, 0, 1440, 2392]\n",
      "The Bounding boxes for the file are: 736.json \n",
      " [0, 0, 1440, 2392] [0, 84, 1440, 2392] [0, 0, 0, 0]\n",
      "The Bounding boxes for the file are: 21.json \n",
      " [0, 84, 1440, 2392] [0, 84, 1440, 2392] [0, 84, 0, 84]\n",
      "The Bounding boxes for the file are: 2137.json \n",
      " [0, 0, 1440, 2392] [0, 252, 1440, 2392] [0, 84, 1440, 252]\n",
      "The Bounding boxes for the file are: 2138.json \n",
      " [0, 0, 1440, 2392] [0, 252, 1440, 2392] [0, 84, 1440, 252]\n",
      "The Bounding boxes for the file are: 220.json \n",
      " [0, 0, 1440, 2392] [0, 252, 1440, 2392] [0, 84, 1440, 252]\n",
      "The Bounding boxes for the file are: 2606.json \n",
      " [0, 0, 1440, 2392] [0, 252, 1440, 2392] [0, 84, 1440, 252]\n",
      "The Bounding boxes for the file are: 295.json \n",
      " [188, 538, 1252, 1938] [188, 538, 1252, 1938] [188, 538, 188, 538]\n",
      "The Bounding boxes for the file are: 3362.json \n",
      " [0, 0, 1440, 2392] [0, 252, 1440, 2392] [0, 84, 1440, 252]\n",
      "The Bounding boxes for the file are: 357.json \n",
      " [0, 0, 1440, 2392] [0, 252, 1440, 2392] [0, 84, 1440, 252]\n",
      "The Bounding boxes for the file are: 730.json \n",
      " [0, 0, 1440, 2392] [0, 0, 0, 0] [0, 0, 1440, 2392]\n",
      "The Bounding boxes for the file are: 747.json \n",
      " [0, 0, 1440, 2392] [0, 252, 1440, 2392] [0, 84, 1440, 252]\n",
      "The Bounding boxes for the file are: 965.json \n",
      " [0, 0, 1440, 2392] [0, 252, 1440, 2392] [0, 84, 1440, 252]\n"
     ]
    }
   ],
   "source": [
    "\n",
    "apps_dir = r'Apps\\*\\*\\view_hierarchies'\n",
    "json_files = glob.glob(apps_dir + '\\*.json')\n",
    "json_files\n",
    "c= 0\n",
    "for i in range(0,len(json_files)):\n",
    "    jso = load_json(json_files[i])\n",
    "    boxes_1 = jso['activity']['root']['children'][0]['bounds']\n",
    "    boxes_2 = jso['activity']['root']['children'][0]['children'][0]['bounds']\n",
    "    boxes_3 = jso['activity']['root']['children'][0]['children'][1]['bounds']\n",
    "    \n",
    "    c+=1\n",
    "    print(\"The Bounding boxes for the file are:\", json_files[i].split('\\\\')[-1],\"\\n\", boxes_1, boxes_2, boxes_3)\n"
   ]
  },
  {
   "cell_type": "code",
   "execution_count": 174,
   "metadata": {
    "ExecuteTime": {
     "end_time": "2020-02-28T09:01:06.157461Z",
     "start_time": "2020-02-28T09:01:06.141922Z"
    }
   },
   "outputs": [
    {
     "data": {
      "text/plain": [
       "([0, 0, 1440, 2392], [0, 0, 0, 0], [0, 0, 1440, 2392])"
      ]
     },
     "execution_count": 174,
     "metadata": {},
     "output_type": "execute_result"
    }
   ],
   "source": [
    "jso = load_json(json_files[2])\n",
    "boxes_1 = jso['activity']['root']['children'][0]['bounds']\n",
    "boxes_2 = jso['activity']['root']['children'][0]['children'][0]['bounds']\n",
    "boxes_3 = jso['activity']['root']['children'][0]['children'][1]['bounds']\n",
    "boxes_1, boxes_2, boxes_3"
   ]
  }
 ],
 "metadata": {
  "kernelspec": {
   "display_name": "Python 3",
   "language": "python",
   "name": "python3"
  },
  "language_info": {
   "codemirror_mode": {
    "name": "ipython",
    "version": 3
   },
   "file_extension": ".py",
   "mimetype": "text/x-python",
   "name": "python",
   "nbconvert_exporter": "python",
   "pygments_lexer": "ipython3",
   "version": "3.7.4"
  }
 },
 "nbformat": 4,
 "nbformat_minor": 2
}
